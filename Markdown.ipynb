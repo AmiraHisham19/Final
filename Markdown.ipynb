{
 "cells": [
  {
   "cell_type": "markdown",
   "id": "a1df87c2-1209-45cb-bf58-ba9f9c6d6c29",
   "metadata": {},
   "source": [
    "# Inc Fontsize\n",
    "## Inc Fontsize\n",
    "###  Inc Fontsize\n",
    "####  Inc Fontsize"
   ]
  },
  {
   "cell_type": "markdown",
   "id": "9c885015-4697-4ce6-9402-780c88267625",
   "metadata": {},
   "source": [
    "**BOLD TEXT**"
   ]
  },
  {
   "cell_type": "markdown",
   "id": "48e23665-6205-4100-92b4-59c3d5a3e258",
   "metadata": {},
   "source": [
    "*ITALIC TEXT*"
   ]
  },
  {
   "cell_type": "markdown",
   "id": "1be65320-ac10-4cf7-89c5-8344c2c30be0",
   "metadata": {},
   "source": [
    " ***BOLD & ITALIC***"
   ]
  },
  {
   "cell_type": "markdown",
   "id": "62c97736-0aa3-46e2-9f9f-d5a67ab6a167",
   "metadata": {},
   "source": [
    "[Hyper link](http://www.facebook.com)"
   ]
  },
  {
   "cell_type": "markdown",
   "id": "bb9cd203-fb76-4450-afe6-47fb630b82f1",
   "metadata": {},
   "source": [
    "LOGO: ![This is the skills network logo](https://cf-courses-data.s3.us.cloud-object-storage.appdomain.cloud/assets/logos/SN_web_lightmode.png)"
   ]
  },
  {
   "cell_type": "markdown",
   "id": "000c5fe2-ce10-4a65-9007-350824aead80",
   "metadata": {},
   "source": [
    "# Creating a table\n",
    "| Name | Phone | address |\n",
    "|-------|------|---------|\n",
    "|amira|01287886855|albitash|"
   ]
  },
  {
   "cell_type": "markdown",
   "id": "5d2e874d-d3b9-46f8-81ae-56b030feea3e",
   "metadata": {},
   "source": [
    "# Button list\n",
    "- First\n",
    "- Second\n",
    "- Third"
   ]
  },
  {
   "cell_type": "markdown",
   "id": "545bc543-e6cd-4b42-ab00-55842cf33f08",
   "metadata": {},
   "source": [
    "# Ordered list\n",
    "1. FIRST\n",
    "2. SECOND\n",
    "3. THIRD"
   ]
  },
  {
   "cell_type": "code",
   "execution_count": null,
   "id": "a7520d23-3d5c-445a-8b4b-b089275fe6a6",
   "metadata": {},
   "outputs": [],
   "source": []
  }
 ],
 "metadata": {
  "kernelspec": {
   "display_name": "Python 3 (ipykernel)",
   "language": "python",
   "name": "python3"
  },
  "language_info": {
   "codemirror_mode": {
    "name": "ipython",
    "version": 3
   },
   "file_extension": ".py",
   "mimetype": "text/x-python",
   "name": "python",
   "nbconvert_exporter": "python",
   "pygments_lexer": "ipython3",
   "version": "3.12.4"
  }
 },
 "nbformat": 4,
 "nbformat_minor": 5
}
